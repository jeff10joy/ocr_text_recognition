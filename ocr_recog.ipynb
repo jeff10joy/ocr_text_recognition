{
 "cells": [
  {
   "cell_type": "code",
   "execution_count": 3,
   "metadata": {},
   "outputs": [
    {
     "name": "stderr",
     "output_type": "stream",
     "text": [
      "Using TensorFlow backend.\n",
      "C:\\Users\\joyje\\anaconda3\\lib\\site-packages\\tensorflow\\python\\framework\\dtypes.py:516: FutureWarning: Passing (type, 1) or '1type' as a synonym of type is deprecated; in a future version of numpy, it will be understood as (type, (1,)) / '(1,)type'.\n",
      "  _np_qint8 = np.dtype([(\"qint8\", np.int8, 1)])\n",
      "C:\\Users\\joyje\\anaconda3\\lib\\site-packages\\tensorflow\\python\\framework\\dtypes.py:517: FutureWarning: Passing (type, 1) or '1type' as a synonym of type is deprecated; in a future version of numpy, it will be understood as (type, (1,)) / '(1,)type'.\n",
      "  _np_quint8 = np.dtype([(\"quint8\", np.uint8, 1)])\n",
      "C:\\Users\\joyje\\anaconda3\\lib\\site-packages\\tensorflow\\python\\framework\\dtypes.py:518: FutureWarning: Passing (type, 1) or '1type' as a synonym of type is deprecated; in a future version of numpy, it will be understood as (type, (1,)) / '(1,)type'.\n",
      "  _np_qint16 = np.dtype([(\"qint16\", np.int16, 1)])\n",
      "C:\\Users\\joyje\\anaconda3\\lib\\site-packages\\tensorflow\\python\\framework\\dtypes.py:519: FutureWarning: Passing (type, 1) or '1type' as a synonym of type is deprecated; in a future version of numpy, it will be understood as (type, (1,)) / '(1,)type'.\n",
      "  _np_quint16 = np.dtype([(\"quint16\", np.uint16, 1)])\n",
      "C:\\Users\\joyje\\anaconda3\\lib\\site-packages\\tensorflow\\python\\framework\\dtypes.py:520: FutureWarning: Passing (type, 1) or '1type' as a synonym of type is deprecated; in a future version of numpy, it will be understood as (type, (1,)) / '(1,)type'.\n",
      "  _np_qint32 = np.dtype([(\"qint32\", np.int32, 1)])\n",
      "C:\\Users\\joyje\\anaconda3\\lib\\site-packages\\tensorflow\\python\\framework\\dtypes.py:525: FutureWarning: Passing (type, 1) or '1type' as a synonym of type is deprecated; in a future version of numpy, it will be understood as (type, (1,)) / '(1,)type'.\n",
      "  np_resource = np.dtype([(\"resource\", np.ubyte, 1)])\n",
      "C:\\Users\\joyje\\anaconda3\\lib\\site-packages\\tensorboard\\compat\\tensorflow_stub\\dtypes.py:541: FutureWarning: Passing (type, 1) or '1type' as a synonym of type is deprecated; in a future version of numpy, it will be understood as (type, (1,)) / '(1,)type'.\n",
      "  _np_qint8 = np.dtype([(\"qint8\", np.int8, 1)])\n",
      "C:\\Users\\joyje\\anaconda3\\lib\\site-packages\\tensorboard\\compat\\tensorflow_stub\\dtypes.py:542: FutureWarning: Passing (type, 1) or '1type' as a synonym of type is deprecated; in a future version of numpy, it will be understood as (type, (1,)) / '(1,)type'.\n",
      "  _np_quint8 = np.dtype([(\"quint8\", np.uint8, 1)])\n",
      "C:\\Users\\joyje\\anaconda3\\lib\\site-packages\\tensorboard\\compat\\tensorflow_stub\\dtypes.py:543: FutureWarning: Passing (type, 1) or '1type' as a synonym of type is deprecated; in a future version of numpy, it will be understood as (type, (1,)) / '(1,)type'.\n",
      "  _np_qint16 = np.dtype([(\"qint16\", np.int16, 1)])\n",
      "C:\\Users\\joyje\\anaconda3\\lib\\site-packages\\tensorboard\\compat\\tensorflow_stub\\dtypes.py:544: FutureWarning: Passing (type, 1) or '1type' as a synonym of type is deprecated; in a future version of numpy, it will be understood as (type, (1,)) / '(1,)type'.\n",
      "  _np_quint16 = np.dtype([(\"quint16\", np.uint16, 1)])\n",
      "C:\\Users\\joyje\\anaconda3\\lib\\site-packages\\tensorboard\\compat\\tensorflow_stub\\dtypes.py:545: FutureWarning: Passing (type, 1) or '1type' as a synonym of type is deprecated; in a future version of numpy, it will be understood as (type, (1,)) / '(1,)type'.\n",
      "  _np_qint32 = np.dtype([(\"qint32\", np.int32, 1)])\n",
      "C:\\Users\\joyje\\anaconda3\\lib\\site-packages\\tensorboard\\compat\\tensorflow_stub\\dtypes.py:550: FutureWarning: Passing (type, 1) or '1type' as a synonym of type is deprecated; in a future version of numpy, it will be understood as (type, (1,)) / '(1,)type'.\n",
      "  np_resource = np.dtype([(\"resource\", np.ubyte, 1)])\n"
     ]
    }
   ],
   "source": [
    "from keras.preprocessing.sequence import pad_sequences\n",
    "from keras.layers import LSTM,Bidirectional,Dense,Input,Conv2D,MaxPool2D,Lambda,BatchNormalization,Reshape,Lambda\n",
    "from keras.models import Model\n",
    "import keras.backend as K\n",
    "import cv2\n",
    "import fnmatch\n",
    "\n",
    "from keras.callbacks import ModelCheckpoint\n",
    "from keras.activations import relu,sigmoid,softmax\n",
    "from keras.utils import to_categorical\n",
    "import os\n",
    "import numpy as np"
   ]
  },
  {
   "cell_type": "code",
   "execution_count": 4,
   "metadata": {},
   "outputs": [],
   "source": [
    "from keras.models import Sequential\n",
    "from keras.layers import TimeDistributed\n",
    "from keras.optimizers import Adam"
   ]
  },
  {
   "cell_type": "code",
   "execution_count": null,
   "metadata": {},
   "outputs": [],
   "source": []
  },
  {
   "cell_type": "code",
   "execution_count": 5,
   "metadata": {},
   "outputs": [],
   "source": [
    "\n",
    "import tensorflow as tf\n",
    "import string"
   ]
  },
  {
   "cell_type": "code",
   "execution_count": 7,
   "metadata": {},
   "outputs": [],
   "source": [
    "char_list=[]\n",
    "char_list=string.ascii_letters+string.digits #list of all alphabets and digits\n",
    "def encode_labels(txt):\n",
    "    dig_list=[]\n",
    "    for index, char in enumerate(txt):\n",
    "        try:\n",
    "            dig_list.append(char_list.index(char))\n",
    "        except:\n",
    "            print(char)\n",
    "    return dig_list"
   ]
  },
  {
   "cell_type": "code",
   "execution_count": 8,
   "metadata": {},
   "outputs": [],
   "source": [
    "file=\"C:/Users/joyje/Desktop/mnt/ramdisk/max/90kDICT32px\"\n",
    "\n",
    "train_img=[]\n",
    "train_text=[]\n",
    "train_input_length=[]\n",
    "train_label_length=[]\n",
    "orig_text=[]\n",
    "valid_img=[]\n",
    "valid_text=[]\n",
    "valid_input_length=[]\n",
    "valid_label_length=[]\n",
    "valid_orig_text=[]\n",
    "max_len=0\n",
    "flag=0\n",
    "i=1\n",
    "for root,dirname,filenames in os.walk(file):\n",
    "    for fname in fnmatch.filter(filenames,\"*.jpg\"):\n",
    "        imsge=cv2.cvtColor(cv2.imread(os.path.join(root,fname)),cv2.COLOR_BGR2GRAY)\n",
    "        w,h=imsge.shape\n",
    "        #imsge=imsge.Reshape((32,128,1))\n",
    "        \n",
    "        if h>128 or w>32:\n",
    "            continue\n",
    "        if w<32:\n",
    "            pad_zeros=np.ones((32-w,h))*255\n",
    "            imsge=np.concatenate((imsge,pad_zeros))\n",
    "        if h<128:\n",
    "            pad_zeros=np.ones((32,128-h))*255\n",
    "            imsge=np.concatenate((imsge,pad_zeros),axis=1)\n",
    "        \n",
    "        imsge=np.expand_dims(imsge,axis=2)\n",
    "        imsge=imsge/255\n",
    "        text=fname.split('_')[1]\n",
    "        if len(text)>max_len:\n",
    "            max_len=len(text)\n",
    "        if i%5==0:\n",
    "            valid_orig_text.append(text)\n",
    "            valid_label_length.append(len(text))\n",
    "            valid_input_length.append(63)\n",
    "            valid_img.append(imsge)\n",
    "            valid_text.append(encode_labels(text))\n",
    "        else:\n",
    "            orig_text.append(text)\n",
    "            train_label_length.append(len(text))\n",
    "            train_input_length.append(31)\n",
    "            train_img.append(imsge)\n",
    "            train_text.append(encode_labels(text))\n",
    "        if i==200000:\n",
    "            flag=1\n",
    "            break\n",
    "        i+=1\n",
    "    if flag==1:\n",
    "        break\n",
    "train_pad=pad_sequences(train_text,maxlen=max_len,padding='post',value=len(char_list))\n",
    "vaild_pad=pad_sequences(valid_text,maxlen=max_len,padding='post',value=len(char_list))\n",
    "\n",
    "        \n",
    "\n",
    "\n"
   ]
  },
  {
   "cell_type": "markdown",
   "metadata": {},
   "source": [
    "\n",
    "cnn=Sequential()\n",
    "cnn.add(Conv2D(32,(3,3),padding='same',activation='relu'))\n",
    "cnn.add(MaxPool2D((3,3)))\n",
    "cnn.add(Conv2D(48,(3,3),padding='same',activation='relu'))\n",
    "cnn.add(MaxPool2D((3,3)))\n",
    "cnn.add(Conv2D(64,(5,5),padding='same',activation='relu'))\n",
    "cnn.add(Conv2D(128,(5,5),padding='same',activation='relu'))\n",
    "cnn.add(MaxPool2D((2,2)))\n",
    "cnn.add(Conv2D(256,(5,5),padding='same',activation='relu'))\n",
    "cnn.add(BatchNormalization())\n",
    "cnn.add(Conv2D(512,(5,5),padding='same',activation='relu'))\n",
    "cnn.add(BatchNormalization())\n",
    "cnn.add(MaxPool2D(2,2))\n",
    "cnn.add(Conv2D(512,(5,5),padding='same',activation='relu'))\n",
    "model1=Sequential()\n",
    "model1.add(TimeDistributed(cnn))\n",
    "model1.add(Bidirectional(LSTM(128,return_sequences=True,dropout=0.2)))\n",
    "model1.add(Bidirectional(LSTM(128,return_sequences=True,dropout=0.2)))\n",
    "model1.add(Dense(len(char_list)+1,activation='softmax'))\n",
    "\n",
    "model1.compile(optimizer=Adam(learning_rate=0.0001),loss='category_crossentropy',accuracy=['metrics'])"
   ]
  },
  {
   "cell_type": "code",
   "execution_count": 9,
   "metadata": {},
   "outputs": [
    {
     "name": "stdout",
     "output_type": "stream",
     "text": [
      "WARNING:tensorflow:From C:\\Users\\joyje\\anaconda3\\lib\\site-packages\\keras\\backend\\tensorflow_backend.py:4070: The name tf.nn.max_pool is deprecated. Please use tf.nn.max_pool2d instead.\n",
      "\n"
     ]
    }
   ],
   "source": [
    "inputs = Input(shape=(32,128,1))\n",
    " \n",
    "\n",
    "conv1 = Conv2D(64, (3,3), activation = 'relu', padding='same')(inputs)\n",
    "pool1 = MaxPool2D(pool_size=(2, 2), strides=2)(conv1)\n",
    "conv2 = Conv2D(128, (3,3), activation = 'relu', padding='same')(pool1)\n",
    "pool2 = MaxPool2D(pool_size=(2, 2), strides=2)(conv2)\n",
    "conv3 = Conv2D(256, (3,3), activation = 'relu', padding='same')(pool2)\n",
    "conv4 = Conv2D(256, (3,3), activation = 'relu', padding='same')(conv3)\n",
    "pool4 = MaxPool2D(pool_size=(2, 1))(conv4)\n",
    "conv5 = Conv2D(512, (3,3), activation = 'relu', padding='same')(pool4)\n",
    "batchnorm5 = BatchNormalization()(conv5)\n",
    "conv6 = Conv2D(512, (3,3), activation = 'relu', padding='same')(batchnorm5)\n",
    "batchnorm6 = BatchNormalization()(conv6)\n",
    "pool6 = MaxPool2D(pool_size=(2, 1))(batchnorm6)\n",
    "conv7 = Conv2D(512, (2,2), activation = 'relu')(pool6)\n",
    "squeezed = Lambda(lambda x: K.squeeze(x, 1))(conv7)\n",
    "blstm1 = Bidirectional(LSTM(128, return_sequences=True, dropout = 0.2))(squeezed)\n",
    "blstm2 = Bidirectional(LSTM(128, return_sequences=True, dropout = 0.2))(blstm1)\n",
    "outputs = Dense(len(char_list)+1, activation = 'softmax')(blstm2)\n",
    "test_model = Model(inputs, outputs)"
   ]
  },
  {
   "cell_type": "code",
   "execution_count": 10,
   "metadata": {},
   "outputs": [
    {
     "name": "stdout",
     "output_type": "stream",
     "text": [
      "WARNING:tensorflow:From C:\\Users\\joyje\\anaconda3\\lib\\site-packages\\tensorflow\\python\\ops\\array_ops.py:1354: add_dispatch_support.<locals>.wrapper (from tensorflow.python.ops.array_ops) is deprecated and will be removed in a future version.\n",
      "Instructions for updating:\n",
      "Use tf.where in 2.0, which has the same broadcast rule as np.where\n"
     ]
    }
   ],
   "source": [
    "labels = Input(name='the_labels', shape=[max_len], dtype='float32')\n",
    "input_length = Input(name='input_length', shape=[1], dtype='int64')\n",
    "label_length = Input(name='label_length', shape=[1], dtype='int64')\n",
    " \n",
    "def ctc_lambda_func(args):\n",
    "    y_pred, labels, input_length, label_length = args\n",
    " \n",
    "    return K.ctc_batch_cost(labels, y_pred, input_length, label_length)\n",
    " \n",
    "loss_out = Lambda(ctc_lambda_func, output_shape=(1,), name='ctc')([outputs, labels, input_length, label_length])\n",
    "\n",
    "\n",
    "model = Model(inputs=[inputs, labels, input_length, label_length], outputs=loss_out)"
   ]
  },
  {
   "cell_type": "code",
   "execution_count": 13,
   "metadata": {},
   "outputs": [],
   "source": [
    "model.compile(loss={'ctc': lambda y_true, y_pred: y_pred}, optimizer = 'adam')\n",
    "filepath=\"C:/bestocrmodel.h5\"\n",
    "checkpoint=ModelCheckpoint(filepath=filepath\n",
    "                           ,monitor='accuracy',verbose=0,save_best_only=True,save_weights_only=False)\n",
    "callbacks_list=[checkpoint]"
   ]
  },
  {
   "cell_type": "code",
   "execution_count": 14,
   "metadata": {},
   "outputs": [],
   "source": [
    "train_img=np.array(train_img)\n",
    "train_input_length=np.array(train_input_length)\n",
    "train_label_length=np.array(train_label_length)\n",
    "\n",
    "valid_img=np.array(valid_img)\n",
    "valid_input_length=np.array(valid_input_length)\n",
    "valid_label_length=np.array(valid_label_length)\n"
   ]
  },
  {
   "cell_type": "code",
   "execution_count": 16,
   "metadata": {},
   "outputs": [],
   "source": [
    "from keras.models import load_model"
   ]
  },
  {
   "cell_type": "markdown",
   "metadata": {},
   "source": []
  },
  {
   "cell_type": "code",
   "execution_count": 18,
   "metadata": {},
   "outputs": [
    {
     "name": "stdout",
     "output_type": "stream",
     "text": [
      "WARNING:tensorflow:From C:\\Users\\joyje\\anaconda3\\lib\\site-packages\\keras\\backend\\tensorflow_backend.py:422: The name tf.global_variables is deprecated. Please use tf.compat.v1.global_variables instead.\n",
      "\n",
      "Epoch 1/10\n",
      "160000/160000 [==============================] - 279s 2ms/step - loss: 27.1001\n",
      "Epoch 2/10\n"
     ]
    },
    {
     "name": "stderr",
     "output_type": "stream",
     "text": [
      "C:\\Users\\joyje\\anaconda3\\lib\\site-packages\\keras\\callbacks\\callbacks.py:707: RuntimeWarning: Can save best model only with accuracy available, skipping.\n",
      "  'skipping.' % (self.monitor), RuntimeWarning)\n"
     ]
    },
    {
     "name": "stdout",
     "output_type": "stream",
     "text": [
      "160000/160000 [==============================] - 264s 2ms/step - loss: 16.9050\n",
      "Epoch 3/10\n",
      "160000/160000 [==============================] - 263s 2ms/step - loss: 5.1589\n",
      "Epoch 4/10\n",
      "160000/160000 [==============================] - 263s 2ms/step - loss: 3.7192\n",
      "Epoch 5/10\n",
      "160000/160000 [==============================] - 262s 2ms/step - loss: 3.0940\n",
      "Epoch 6/10\n",
      "160000/160000 [==============================] - 262s 2ms/step - loss: 2.7429\n",
      "Epoch 7/10\n",
      "160000/160000 [==============================] - 261s 2ms/step - loss: 2.4714\n",
      "Epoch 8/10\n",
      "160000/160000 [==============================] - 261s 2ms/step - loss: 2.3043\n",
      "Epoch 9/10\n",
      "160000/160000 [==============================] - 261s 2ms/step - loss: 2.1278\n",
      "Epoch 10/10\n",
      "160000/160000 [==============================] - 261s 2ms/step - loss: 1.9801\n"
     ]
    },
    {
     "data": {
      "text/plain": [
       "<keras.callbacks.callbacks.History at 0x1d368457f60>"
      ]
     },
     "execution_count": 18,
     "metadata": {},
     "output_type": "execute_result"
    }
   ],
   "source": [
    "\n",
    "batch_size = 256\n",
    "epochs = 10\n",
    "model.fit(x=[train_img,train_pad,train_input_length,train_label_length], y=np.zeros(len(train_img)), batch_size=batch_size, epochs = epochs, verbose = 1, callbacks = callbacks_list)"
   ]
  },
  {
   "cell_type": "code",
   "execution_count": 24,
   "metadata": {},
   "outputs": [],
   "source": [
    "model.save(\"bestmodel\")"
   ]
  },
  {
   "cell_type": "code",
   "execution_count": null,
   "metadata": {},
   "outputs": [],
   "source": []
  },
  {
   "cell_type": "code",
   "execution_count": null,
   "metadata": {},
   "outputs": [],
   "source": []
  }
 ],
 "metadata": {
  "kernelspec": {
   "display_name": "Python 3",
   "language": "python",
   "name": "python3"
  },
  "language_info": {
   "codemirror_mode": {
    "name": "ipython",
    "version": 3
   },
   "file_extension": ".py",
   "mimetype": "text/x-python",
   "name": "python",
   "nbconvert_exporter": "python",
   "pygments_lexer": "ipython3",
   "version": "3.6.10"
  }
 },
 "nbformat": 4,
 "nbformat_minor": 4
}
